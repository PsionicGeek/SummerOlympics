{
  "nbformat": 4,
  "nbformat_minor": 0,
  "metadata": {
    "kernelspec": {
      "display_name": "Python 3",
      "language": "python",
      "name": "python3"
    },
    "language_info": {
      "codemirror_mode": {
        "name": "ipython",
        "version": 2
      },
      "file_extension": ".py",
      "mimetype": "text/x-python",
      "name": "python",
      "nbconvert_exporter": "python",
      "pygments_lexer": "ipython2",
      "version": "2.7.6"
    },
    "colab": {
      "name": "Summer.ipynb",
      "provenance": []
    }
  },
  "cells": [
    {
      "cell_type": "markdown",
      "metadata": {
        "collapsed": false,
        "id": "gASig_0zlD8d"
      },
      "source": [
        "# Summer Olympics Data Analysis Assignment"
      ]
    },
    {
      "cell_type": "code",
      "metadata": {
        "pycharm": {
          "name": "#%%\n"
        },
        "colab": {
          "base_uri": "https://localhost:8080/"
        },
        "id": "zgr3hVl1lD8f",
        "outputId": "7b4ff0af-605d-49df-ac97-48097b7087da"
      },
      "source": [
        "import pandas as pd\n",
        "\n",
        "dataset = pd.read_csv('data/summer.csv')\n",
        "print(dataset)"
      ],
      "execution_count": 12,
      "outputs": [
        {
          "output_type": "stream",
          "name": "stdout",
          "text": [
            "       Year    City      Sport  ... Gender                       Event   Medal\n",
            "0      1896  Athens   Aquatics  ...    Men              100M Freestyle    Gold\n",
            "1      1896  Athens   Aquatics  ...    Men              100M Freestyle  Silver\n",
            "2      1896  Athens   Aquatics  ...    Men  100M Freestyle For Sailors  Bronze\n",
            "3      1896  Athens   Aquatics  ...    Men  100M Freestyle For Sailors    Gold\n",
            "4      1896  Athens   Aquatics  ...    Men  100M Freestyle For Sailors  Silver\n",
            "...     ...     ...        ...  ...    ...                         ...     ...\n",
            "31160  2012  London  Wrestling  ...    Men                    Wg 84 KG  Bronze\n",
            "31161  2012  London  Wrestling  ...    Men                    Wg 96 KG    Gold\n",
            "31162  2012  London  Wrestling  ...    Men                    Wg 96 KG  Silver\n",
            "31163  2012  London  Wrestling  ...    Men                    Wg 96 KG  Bronze\n",
            "31164  2012  London  Wrestling  ...    Men                    Wg 96 KG  Bronze\n",
            "\n",
            "[31165 rows x 9 columns]\n"
          ]
        }
      ]
    },
    {
      "cell_type": "markdown",
      "metadata": {
        "collapsed": false,
        "id": "0cCdIAJBlD8f"
      },
      "source": [
        "## 1. In how many cities Summer Olympics is held so far?¶"
      ]
    },
    {
      "cell_type": "code",
      "metadata": {
        "pycharm": {
          "name": "#%%\n"
        },
        "colab": {
          "base_uri": "https://localhost:8080/"
        },
        "id": "tl_gRJzVlD8g",
        "outputId": "8cc635a0-d20e-47ee-e7bc-88eee3e387ac"
      },
      "source": [
        "cities=dataset.City.unique()\n",
        "print(f\"No. of cities in which olympic is held {len(cities)}\")"
      ],
      "execution_count": 13,
      "outputs": [
        {
          "output_type": "stream",
          "name": "stdout",
          "text": [
            "No. of cities in which olympic is held 22\n"
          ]
        }
      ]
    },
    {
      "cell_type": "markdown",
      "metadata": {
        "collapsed": false,
        "id": "R5elazxXlD8g"
      },
      "source": [
        "## 2. Which sport is having most number of Gold Medals so far? (Top 5)"
      ]
    },
    {
      "cell_type": "code",
      "metadata": {
        "pycharm": {
          "name": "#%%\n"
        },
        "colab": {
          "base_uri": "https://localhost:8080/",
          "height": 347
        },
        "id": "LJDwFN9_lD8g",
        "outputId": "18535ffb-9de8-4cbf-a56b-ca0fe3c0f566"
      },
      "source": [
        "gold=dataset.loc[dataset['Medal'] == 'Gold']\n",
        "max_gold=gold['Sport'].value_counts()\n",
        "top_five=max_gold.head()\n",
        "top_five.plot.bar(title=\"Sports having most number of Gold Medals\")\n",
        "print(f\"Sports having most number of Gold Medals is {max_gold.index[0]} with {max_gold[0]} gold medals\")"
      ],
      "execution_count": 14,
      "outputs": [
        {
          "output_type": "stream",
          "name": "stdout",
          "text": [
            "Sports having most number of Gold Medals is Aquatics with 1421 gold medals\n"
          ]
        },
        {
          "output_type": "display_data",
          "data": {
            "image/png": "[encoded data removed]",
            "text/plain": [
              "<Figure size 432x288 with 1 Axes>"
            ]
          },
          "metadata": {
            "needs_background": "light"
          }
        }
      ]
    },
    {
      "cell_type": "markdown",
      "metadata": {
        "collapsed": false,
        "id": "_AA70QZelD8h"
      },
      "source": [
        "## 3. Which sport is having most number of medals so far? (Top 5)"
      ]
    },
    {
      "cell_type": "code",
      "metadata": {
        "pycharm": {
          "name": "#%%\n"
        },
        "colab": {
          "base_uri": "https://localhost:8080/",
          "height": 347
        },
        "id": "zjjEyR0glD8h",
        "outputId": "6899570e-c15a-431f-ed1f-762d19f1e5a5"
      },
      "source": [
        "most_medal=dataset['Sport'].value_counts()\n",
        "most_medal.head().plot.bar(title=\"Sports having most number of Medals\")\n",
        "print(f\"Sports having most number of Medals is {most_medal.index[0]} with {most_medal[0]} medals\")"
      ],
      "execution_count": 15,
      "outputs": [
        {
          "output_type": "stream",
          "name": "stdout",
          "text": [
            "Sports having most number of Medals is Aquatics with 4170 medals\n"
          ]
        },
        {
          "output_type": "display_data",
          "data": {
            "image/png": "[encoded data removed]",
            "text/plain": [
              "<Figure size 432x288 with 1 Axes>"
            ]
          },
          "metadata": {
            "needs_background": "light"
          }
        }
      ]
    },
    {
      "cell_type": "markdown",
      "metadata": {
        "collapsed": false,
        "id": "UdjS8JrGlD8h"
      },
      "source": [
        "## 4. Which player has won most number of medals? (Top 5)"
      ]
    },
    {
      "cell_type": "code",
      "metadata": {
        "pycharm": {
          "name": "#%%\n"
        },
        "colab": {
          "base_uri": "https://localhost:8080/",
          "height": 392
        },
        "id": "vahy1lOGlD8h",
        "outputId": "60988c0c-e872-4cd4-b659-c750837ea6ff"
      },
      "source": [
        "player_most_medal=dataset['Athlete'].value_counts()\n",
        "player_most_medal.head().plot.bar(title=\"Athlete having most number of Medals\")\n",
        "print(f\"Athlete having most number of Medals is {player_most_medal.index[0]} with {player_most_medal[0]} medals\")"
      ],
      "execution_count": 16,
      "outputs": [
        {
          "output_type": "stream",
          "name": "stdout",
          "text": [
            "Athlete having most number of Medals is PHELPS, Michael with 22 medals\n"
          ]
        },
        {
          "output_type": "display_data",
          "data": {
            "image/png": "[encoded data removed]",
            "text/plain": [
              "<Figure size 432x288 with 1 Axes>"
            ]
          },
          "metadata": {
            "needs_background": "light"
          }
        }
      ]
    },
    {
      "cell_type": "markdown",
      "metadata": {
        "collapsed": false,
        "id": "aKZmdJLwlD8i"
      },
      "source": [
        "## 5. Which player has won most number Gold Medals of medals? (Top 5)"
      ]
    },
    {
      "cell_type": "code",
      "metadata": {
        "pycharm": {
          "name": "#%%\n"
        },
        "colab": {
          "base_uri": "https://localhost:8080/",
          "height": 373
        },
        "id": "nZZnNjuMlD8i",
        "outputId": "f943b243-355e-4c28-aaf0-b3c0cebd744d"
      },
      "source": [
        "player_most_gold=gold['Athlete'].value_counts()\n",
        "player_most_gold.head().plot.bar(title=\"Player having most number of Gold Medals\")\n",
        "print(f\"Player having most number of Gold Medals is {player_most_gold.index[0]} with {player_most_gold[0]} gold medals\")\n"
      ],
      "execution_count": 17,
      "outputs": [
        {
          "output_type": "stream",
          "name": "stdout",
          "text": [
            "Player having most number of Gold Medals is PHELPS, Michael with 18 gold medals\n"
          ]
        },
        {
          "output_type": "display_data",
          "data": {
            "image/png": "[encoded data removed]",
            "text/plain": [
              "<Figure size 432x288 with 1 Axes>"
            ]
          },
          "metadata": {
            "needs_background": "light"
          }
        }
      ]
    },
    {
      "cell_type": "markdown",
      "metadata": {
        "collapsed": false,
        "id": "CRold7rYlD8j"
      },
      "source": [
        "## 6. In which year India won first Gold Medal in Summer Olympics?"
      ]
    },
    {
      "cell_type": "code",
      "metadata": {
        "pycharm": {
          "name": "#%%\n"
        },
        "colab": {
          "base_uri": "https://localhost:8080/"
        },
        "id": "CgoPZoeNlD8j",
        "outputId": "89d78786-0ed0-4e0c-fda3-97c322df7a55"
      },
      "source": [
        "India_gold=dataset.loc[(dataset['Medal'] == 'Gold') & ( dataset['Country']=='IND')]\n",
        "year_key=India_gold['Year'].index[0]\n",
        "print(f\"India won first Gold Medal in year {India_gold['Year'][year_key]}\")"
      ],
      "execution_count": 18,
      "outputs": [
        {
          "output_type": "stream",
          "name": "stdout",
          "text": [
            "India won first Gold Medal in year 1928\n"
          ]
        }
      ]
    },
    {
      "cell_type": "markdown",
      "metadata": {
        "collapsed": false,
        "id": "tE8Sz69AlD8j"
      },
      "source": [
        "## 7. Which event is most popular in terms on number of players? (Top 5)"
      ]
    },
    {
      "cell_type": "code",
      "metadata": {
        "pycharm": {
          "name": "#%%\n"
        },
        "colab": {
          "base_uri": "https://localhost:8080/",
          "height": 378
        },
        "id": "bmZKBax-lD8j",
        "outputId": "8c127939-ffad-48f8-fe73-dd48f142b57d"
      },
      "source": [
        "most_popular_event=dataset['Event'].value_counts()\n",
        "most_popular_event.head().plot.bar(title=\"Most popular Event\")\n",
        "print(f\"Most popular Event is {most_popular_event.index[0]}\")"
      ],
      "execution_count": 19,
      "outputs": [
        {
          "output_type": "stream",
          "name": "stdout",
          "text": [
            "Most popular Event is Football\n"
          ]
        },
        {
          "output_type": "display_data",
          "data": {
            "image/png": "[encoded data removed]",
            "text/plain": [
              "<Figure size 432x288 with 1 Axes>"
            ]
          },
          "metadata": {
            "needs_background": "light"
          }
        }
      ]
    },
    {
      "cell_type": "markdown",
      "metadata": {
        "collapsed": false,
        "id": "Q3usR-k-lD8k"
      },
      "source": [
        "## 8. Which sport is having most female Gold Medalists? (Top 5)"
      ]
    },
    {
      "cell_type": "code",
      "metadata": {
        "pycharm": {
          "name": "#%%\n"
        },
        "colab": {
          "base_uri": "https://localhost:8080/",
          "height": 347
        },
        "id": "8mL2JHxZlD8k",
        "outputId": "b7234eb5-dbdb-4820-8fef-dcac9d6f86d6"
      },
      "source": [
        "female_gold_medalist=dataset.loc[(dataset['Gender'] == 'Women') & ( dataset['Medal']=='Gold')]\n",
        "event_female_gold=female_gold_medalist['Sport'].value_counts()\n",
        "event_female_gold.head().plot.bar(title=\"Sport having most number of Female Gold Medalists\")\n",
        "\n",
        "print(f\"Sport having most number of Female Gold Medalists is {event_female_gold.index[0]} with {event_female_gold[0]} gold medals\")\n",
        "\n"
      ],
      "execution_count": 20,
      "outputs": [
        {
          "output_type": "stream",
          "name": "stdout",
          "text": [
            "Sport having most number of Female Gold Medalists is Aquatics with 589 gold medals\n"
          ]
        },
        {
          "output_type": "display_data",
          "data": {
            "image/png": "[encoded data removed]",
            "text/plain": [
              "<Figure size 432x288 with 1 Axes>"
            ]
          },
          "metadata": {
            "needs_background": "light"
          }
        }
      ]
    }
  ]
}